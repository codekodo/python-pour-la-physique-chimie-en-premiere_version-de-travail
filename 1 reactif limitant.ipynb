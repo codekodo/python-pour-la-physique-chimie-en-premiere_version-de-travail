{
 "cells": [
  {
   "cell_type": "markdown",
   "metadata": {},
   "source": [
    "# REACTIF LIMITANT, BOUCLE WHILE ET FONCTION"
   ]
  },
  {
   "cell_type": "markdown",
   "metadata": {},
   "source": [
    "On utilise ici le langage Python pour déterminer l’avancement maximal et identifier le réactif limitant à partir de la donnée des quantités de matière initiales pour une équation de réaction donnée. D’un point de vue chimique, on illustre les notions d’équivalence et de réactif limitant. D’un point de vue algorithmique, c’est l’occasion d’utiliser une boucle `while` et ainsi d’appréhender la gestion d’une condition d’arrêt qui n’est pas connue a priori.\n",
    "\n",
    "**Capacité numérique mise en œuvre** : Déterminer la composition de l’état final d’un système siège d’une transformation chimique totale à l’aide d’un langage de programmation.\n"
   ]
  },
  {
   "cell_type": "markdown",
   "metadata": {},
   "source": [
    "## 1. Premier exemple, fonction input, première boucle \n",
    "La transformation est modélisée par la réaction d’équation :\n",
    "$$I_{2 (aq)} + 2 S_2 {{O_3}^{2-}}_{(aq)}  =  2 {I^-}_{(aq)} + {S_4 O_6^{2-}}_{(aq)}$$\n",
    "\n",
    "Le script débute par la saisie des quantités de matière apportées des deux réactifs (nI2_0 et nS2O3_0).  Pour obtenir une activité interactive et dynamique, on fait rentrer ces quantités dans le programme grâce à la fonction input. Ainsi, à chaque fois que l’utilisateur lancera le programme, il pourra entrer un nouveau jeu de concentrations initiales. L’instruction float convertit simplement les concentrations en flottants pour le traitement. "
   ]
  },
  {
   "cell_type": "code",
   "execution_count": 7,
   "metadata": {},
   "outputs": [
    {
     "name": "stdin",
     "output_type": "stream",
     "text": [
      "quantité initiale en diiode en mol : 2\n",
      "quantité initiale en thiosulfate en mol : 3\n"
     ]
    }
   ],
   "source": [
    "I2_0 = input('quantité initiale en diiode en mol :')\n",
    "nI2_0 = float(I2_0)\n",
    "S2O3_0 = input('quantité initiale en thiosulfate en mol :')\n",
    "nS2O3_0 = float(S2O3_0)"
   ]
  },
  {
   "cell_type": "markdown",
   "metadata": {},
   "source": [
    "L’avancement est ensuite initialisé à la valeur x = 0 mol, et un incrément est entré (a = 0,001 mol ici).\n",
    "\n",
    "Une fonction, 'limitant', initialement vide, aura vocation à lister le nom du (ou des) réactifs limitants selon la composition du mélange initial. Les listes qI2 et qS2O3 à recueillir les quantités de matière successives de ces deux réactifs.\n"
   ]
  },
  {
   "cell_type": "code",
   "execution_count": 8,
   "metadata": {},
   "outputs": [],
   "source": [
    "limitant =''  # initiallisation de la chaine de caractère correspondant au réactif limitant\n",
    "x=0  # avancement initial\n",
    "a=0.001 #pas d'avancement\n",
    "qI2=[nI2_0]\n",
    "qS2O3=[nS2O3_0]"
   ]
  },
  {
   "cell_type": "markdown",
   "metadata": {},
   "source": [
    "Le script opère ensuite par augmentation progressive de l’avancement tant que les deux réactifs sont présents. La boucle conditionnelle `while` permet d’indiquer à Python qu’il doit poursuivre la réaction tant que les quantités de matière des deux réactifs sont positives. La fonction `append` sert à stocker chaque nouvelle valeur de quantité de matière dans les listes créées."
   ]
  },
  {
   "cell_type": "code",
   "execution_count": 9,
   "metadata": {},
   "outputs": [],
   "source": [
    "# écriture de la boucle while\n",
    "while qI2[-1] > 0 and qS2O3[-1] > 0:\n",
    "    x=x+a\n",
    "    qI2.append(nI2_0-x)\n",
    "    qS2O3.append(nS2O3_0-2*x)"
   ]
  },
  {
   "cell_type": "markdown",
   "metadata": {},
   "source": [
    "Quand la transformation a été conduite à son terme, le(s) réactif(s) limitant(s) est identifié grâce à la commande liste[-1] qui permet d’appeler la dernière valeur dans une liste. L’avancement final est choisi comme la dernière valeur d’avancement calculée. Enfin, la commande `print` permet d’afficher l’état final. `round` permet d’afficher un arrondi à 2 chiffres significatifs."
   ]
  },
  {
   "cell_type": "code",
   "execution_count": 10,
   "metadata": {},
   "outputs": [
    {
     "name": "stdout",
     "output_type": "stream",
     "text": [
      "Le réactif limitant est  le thiosulfate \n",
      " Avancement maximum :  1.5 mol\n"
     ]
    }
   ],
   "source": [
    "#résolution du problème et affichage du résultat\n",
    "if qI2[-1]<=0:\n",
    "    limitant = 'le diiode'\n",
    "if qS2O3[-1]<=0:\n",
    "    limitant = 'le thiosulfate'\n",
    "if qI2[-1]<=0 and qS2O3[-1]<=0 : \n",
    "    limitant='à la fois le thiosulfate et le diiode : le mélange est stoechiometrique'\n",
    "#print(limitant)\n",
    "print('Le réactif limitant est ',limitant,'\\n Avancement maximum : ',round(x,2),'mol' )"
   ]
  },
  {
   "cell_type": "markdown",
   "metadata": {},
   "source": [
    "Il est possible de tester différentes situations initiales avec les élèves pour mettre l’accent sur l’importance des nombres stœchiométriques dans l’identification du réactif limitant (le réactif limitant n’est pas nécessairement celui introduit en plus petite quantité). "
   ]
  },
  {
   "cell_type": "markdown",
   "metadata": {},
   "source": [
    "## 2. Généralisation, première définition, deuxième boucle "
   ]
  },
  {
   "cell_type": "markdown",
   "metadata": {},
   "source": [
    "On peut maintenant généraliser ce script pour pouvoir gérer tous les coefficients stœchiométriques et toutes les conditions initiales possibles, pour un système siège d’une réaction du type : aA A+ aB B =aC C + aD A\n",
    "\n",
    "La syntaxe débute par `def nom_procedure(arguments) :` et termine par `return`. On reprend les mêmes idées que précédemment.\n",
    "\n",
    "Il suffit alors d’entrer les nombres stœchiométriques et les quantités initiales comme arguments de la procédure et le script renvoie directement le résultat. "
   ]
  },
  {
   "cell_type": "code",
   "execution_count": 13,
   "metadata": {},
   "outputs": [
    {
     "name": "stdin",
     "output_type": "stream",
     "text": [
      "quantité initiale de A en mol : 2\n",
      "quantité initiale de B en mol : 3\n",
      "a: 5\n",
      "b : 2\n"
     ]
    },
    {
     "data": {
      "text/plain": [
       "(['A'], 0.4)"
      ]
     },
     "execution_count": 13,
     "metadata": {},
     "output_type": "execute_result"
    }
   ],
   "source": [
    "#### Définition de la procédure de recherche du réactif limitant ####\n",
    "#### pour l'équation de réaction : aA A + aB B = aC C + aD D\n",
    "A = input('quantité initiale de A en mol :')\n",
    "nA = float(A)\n",
    "B = input('quantité initiale de B en mol :')\n",
    "nB = float(B)\n",
    "a = input('a:')\n",
    "aA = float(a)\n",
    "b = input('b :')\n",
    "aB = float(b)\n",
    "def react_lim(aA,aB,nA,nB) :\n",
    "    x=0             # Initialisation de l'avancement\n",
    "    dx=0.00001      # Incrément d'avancement\n",
    "    qA=[nA]         # Liste stockant les quantités de matière successives de A\n",
    "    qB=[nB]         # Idem pour B\n",
    "    RL=[]           # Liste qui stockera le nom du réactif limitant\n",
    "    while qA[-1]>0 and qB[-1]>0 :\n",
    "        x=x+dx\n",
    "        qA.append(nA-aA*x)\n",
    "        qB.append(nB-aB*x)\n",
    "    if qA[-1]<=0 :\n",
    "        RL.append('A')\n",
    "    if qB[-1]<=0 :\n",
    "        RL.append('B')\n",
    "    return(RL,round(x,2))\n",
    "\n",
    "react_lim(aA,aB,nA,nB)\n"
   ]
  },
  {
   "cell_type": "markdown",
   "metadata": {},
   "source": [
    "Autres valeurs directement dans la fonction :"
   ]
  },
  {
   "cell_type": "code",
   "execution_count": 15,
   "metadata": {},
   "outputs": [
    {
     "data": {
      "text/plain": [
       "(['B'], 1.67)"
      ]
     },
     "execution_count": 15,
     "metadata": {},
     "output_type": "execute_result"
    }
   ],
   "source": [
    "react_lim(1,3,6,5)"
   ]
  },
  {
   "cell_type": "markdown",
   "metadata": {},
   "source": [
    "Là encore, il peut être formateur de faire constater aux élèves que le réactif limitant n’est pas forcément celui qui est introduit en plus petite quantité. "
   ]
  }
 ],
 "metadata": {
  "kernelspec": {
   "display_name": "Python 3",
   "language": "python",
   "name": "python3"
  },
  "language_info": {
   "codemirror_mode": {
    "name": "ipython",
    "version": 3
   },
   "file_extension": ".py",
   "mimetype": "text/x-python",
   "name": "python",
   "nbconvert_exporter": "python",
   "pygments_lexer": "ipython3",
   "version": "3.5.3"
  }
 },
 "nbformat": 4,
 "nbformat_minor": 2
}
